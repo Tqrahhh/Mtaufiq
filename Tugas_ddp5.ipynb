{
  "nbformat": 4,
  "nbformat_minor": 0,
  "metadata": {
    "colab": {
      "provenance": [],
      "authorship_tag": "ABX9TyNZLZhQnsWxDJyD+5NeQ1hZ",
      "include_colab_link": true
    },
    "kernelspec": {
      "name": "python3",
      "display_name": "Python 3"
    },
    "language_info": {
      "name": "python"
    }
  },
  "cells": [
    {
      "cell_type": "markdown",
      "metadata": {
        "id": "view-in-github",
        "colab_type": "text"
      },
      "source": [
        "<a href=\"https://colab.research.google.com/github/Tqrahhh/Mtaufiq/blob/main/Tugas_ddp5.ipynb\" target=\"_parent\"><img src=\"https://colab.research.google.com/assets/colab-badge.svg\" alt=\"Open In Colab\"/></a>"
      ]
    },
    {
      "cell_type": "code",
      "execution_count": null,
      "metadata": {
        "colab": {
          "base_uri": "https://localhost:8080/"
        },
        "id": "zriPy36mmqyl",
        "outputId": "db811dc3-c055-4f96-a561-17b786a6a2e9"
      },
      "outputs": [
        {
          "output_type": "stream",
          "name": "stdout",
          "text": [
            "['Inova', 'mobil', 'Toyota', '2400']\n",
            "['Inova', 'mobil', 'Toyota', '2400', 'methalic', 4, 500000000]\n",
            "['Inova', 'Toyota', '2400', 'methalic', 4, 500000000]\n"
          ]
        }
      ],
      "source": [
        "kendaraan1=[\"Inova\",\"mobil\",\"Toyota\",\"2400\"]\n",
        "print(kendaraan1)\n",
        "\n",
        "kendaraan1=kendaraan1+[\"methalic\",4,500000000]\n",
        "print(kendaraan1)\n",
        "\n",
        "kendaraan1.remove(\"mobil\")\n",
        "print(kendaraan1)"
      ]
    },
    {
      "cell_type": "code",
      "source": [
        "\n",
        "pesan = \"\"\"\n",
        "menu:\n",
        "1. menghitung luas persegi\n",
        "2. menghitung luas lingkaran\n",
        "3. menghitung luas segitiga\n",
        "pilih menu:\n",
        "\"\"\"\n",
        "pilihan=input(pesan)\n",
        "\n",
        "match pilihan:\n",
        "    case \"1\":\n",
        "        print(\"anda memasukan angka 1 untuk menghitung luas persegi\")\n",
        "        sisi=int(input(\"masukan sisi:\"))\n",
        "        luas=sisi*sisi\n",
        "        print(\"luas persegi dengan sisi\",sisi,\"adalah\",luas)\n",
        "    case \"2\":\n",
        "        print(\"anda memasukan angka 2 untuk menghitung luas lingkaran\")\n",
        "        jari=int(input(\"masukan jari jari:\"))\n",
        "        luas=22/7*jari*jari\n",
        "        print(\"luas lingkaran dengan jari\",jari,\"adalah\",luas)\n",
        "    case \"3\":\n",
        "        print(\"anda memasukkan angka 3 untuk menghitung luas segitiga\")\n",
        "        alas=int(input(\"masukan alas:\"))\n",
        "        tinggi=int(input(\"masukan tinggi:\"))\n",
        "        luas=alas*tinggi/2\n",
        "        print(\"luas segitiga\",luas)"
      ],
      "metadata": {
        "colab": {
          "base_uri": "https://localhost:8080/"
        },
        "id": "mlSipoQTp7Rm",
        "outputId": "699194c8-4a9f-4609-ab02-a3c47c228602"
      },
      "execution_count": null,
      "outputs": [
        {
          "output_type": "stream",
          "name": "stdout",
          "text": [
            "\n",
            "menu:\n",
            "1. menghitung luas persegi\n",
            "2. menghitung luas lingkaran\n",
            "3. menghitung luas segitiga\n",
            "pilih menu:\n",
            "1\n",
            "anda memasukan angka 1 untuk menghitung luas persegi\n",
            "masukan sisi:5\n",
            "luas persegi dengan sisi 5 adalah 25\n"
          ]
        }
      ]
    },
    {
      "cell_type": "code",
      "source": [
        "\n",
        "pesan = \"\"\"\n",
        "menu:\n",
        "1. menghitung luas persegi\n",
        "2. menghitung luas lingkaran\n",
        "3. menghitung luas segitiga\n",
        "pilih menu:\n",
        "\"\"\"\n",
        "pilihan=input(pesan)\n",
        "\n",
        "match pilihan:\n",
        "    case \"1\":\n",
        "        print(\"anda memasukan angka 1 untuk menghitung luas persegi\")\n",
        "        sisi=int(input(\"masukan sisi:\"))\n",
        "        luas=sisi*sisi\n",
        "        print(\"luas persegi dengan sisi\",sisi,\"adalah\",luas)\n",
        "    case \"2\":\n",
        "        print(\"anda memasukan angka 2 untuk menghitung luas lingkaran\")\n",
        "        jari=int(input(\"masukan jari jari:\"))\n",
        "        luas=22/7*jari*jari\n",
        "        print(\"luas lingkaran dengan jari\",jari,\"adalah\",luas)\n",
        "    case \"3\":\n",
        "        print(\"anda memasukkan angka 3 untuk menghitung luas segitiga\")\n",
        "        alas=int(input(\"masukan alas:\"))\n",
        "        tinggi=int(input(\"masukan tinggi:\"))\n",
        "        luas=alas*tinggi/2\n",
        "        print(\"luas segitiga\",luas)"
      ],
      "metadata": {
        "colab": {
          "base_uri": "https://localhost:8080/"
        },
        "id": "j31rC-xtqBCL",
        "outputId": "a94ca021-c494-4b87-ed68-185f8aa05c20"
      },
      "execution_count": null,
      "outputs": [
        {
          "output_type": "stream",
          "name": "stdout",
          "text": [
            "\n",
            "menu:\n",
            "1. menghitung luas persegi\n",
            "2. menghitung luas lingkaran\n",
            "3. menghitung luas segitiga\n",
            "pilih menu:\n",
            "2\n",
            "anda memasukan angka 2 untuk menghitung luas lingkaran\n",
            "masukan jari jari:3\n",
            "luas lingkaran dengan jari 3 adalah 28.285714285714285\n"
          ]
        }
      ]
    },
    {
      "cell_type": "code",
      "source": [
        "\n",
        "pesan = \"\"\"\n",
        "menu:\n",
        "1. menghitung luas persegi\n",
        "2. menghitung luas lingkaran\n",
        "3. menghitung luas segitiga\n",
        "pilih menu:\n",
        "\"\"\"\n",
        "pilihan=input(pesan)\n",
        "\n",
        "match pilihan:\n",
        "    case \"1\":\n",
        "        print(\"anda memasukan angka 1 untuk menghitung luas persegi\")\n",
        "        sisi=int(input(\"masukan sisi:\"))\n",
        "        luas=sisi*sisi\n",
        "        print(\"luas persegi dengan sisi\",sisi,\"adalah\",luas)\n",
        "    case \"2\":\n",
        "        print(\"anda memasukan angka 2 untuk menghitung luas lingkaran\")\n",
        "        jari=int(input(\"masukan jari jari:\"))\n",
        "        luas=22/7*jari*jari\n",
        "        print(\"luas lingkaran dengan jari\",jari,\"adalah\",luas)\n",
        "    case \"3\":\n",
        "        print(\"anda memasukkan angka 3 untuk menghitung luas segitiga\")\n",
        "        alas=int(input(\"masukan alas:\"))\n",
        "        tinggi=int(input(\"masukan tinggi:\"))\n",
        "        luas=alas*tinggi/2\n",
        "        print(\"luas segitiga\",luas)"
      ],
      "metadata": {
        "colab": {
          "base_uri": "https://localhost:8080/"
        },
        "id": "DBzRUD-7qJEq",
        "outputId": "f87dede1-87fd-4afd-d4a9-70089d615492"
      },
      "execution_count": null,
      "outputs": [
        {
          "output_type": "stream",
          "name": "stdout",
          "text": [
            "\n",
            "menu:\n",
            "1. menghitung luas persegi\n",
            "2. menghitung luas lingkaran\n",
            "3. menghitung luas segitiga\n",
            "pilih menu:\n",
            "3\n",
            "anda memasukkan angka 3 untuk menghitung luas segitiga\n",
            "masukan alas:4\n",
            "masukan tinggi:5\n",
            "luas segitiga 10.0\n"
          ]
        }
      ]
    }
  ]
}
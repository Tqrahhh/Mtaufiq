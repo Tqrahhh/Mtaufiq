{
  "nbformat": 4,
  "nbformat_minor": 0,
  "metadata": {
    "colab": {
      "provenance": [],
      "authorship_tag": "ABX9TyP3ZliWl3qM005KoVCUSzL4"
    },
    "kernelspec": {
      "name": "python3",
      "display_name": "Python 3"
    },
    "language_info": {
      "name": "python"
    }
  },
  "cells": [
    {
      "cell_type": "code",
      "execution_count": 1,
      "metadata": {
        "colab": {
          "base_uri": "https://localhost:8080/"
        },
        "id": "hjXrfx01-aYZ",
        "outputId": "05b79e85-dafa-4463-b25a-d7440106c172"
      },
      "outputs": [
        {
          "output_type": "stream",
          "name": "stdout",
          "text": [
            "['Inova', 'mobil', 'Toyota', '2400']\n",
            "['Inova', 'mobil', 'Toyota', '2400', 'methalic', 4, 500000000]\n",
            "['Inova', 'Toyota', '2400', 'methalic', 4, 500000000]\n"
          ]
        }
      ],
      "source": [
        "kendaraan1=[\"Inova\",\"mobil\",\"Toyota\",\"2400\"]\n",
        "print(kendaraan1)\n",
        "\n",
        "kendaraan1=kendaraan1+[\"methalic\",4,500000000]\n",
        "print(kendaraan1)\n",
        "\n",
        "kendaraan1.remove(\"mobil\")\n",
        "print(kendaraan1)"
      ]
    },
    {
      "cell_type": "code",
      "source": [
        "pesan = \"\"\"\n",
        "menu:\n",
        "1. menghitung luas persegi\n",
        "2. menghitung luas lingkaran\n",
        "3. menghitung luas segitiga\n",
        "pilih menu:\n",
        "\"\"\"\n",
        "pilihan=input(pesan)\n",
        "\n",
        "match pilihan:\n",
        "    case \"1\":\n",
        "        print(\"anda memasukan angka 1 untuk menghitung luas persegi\")\n",
        "        sisi=int(input(\"masukan sisi:\"))\n",
        "        luas=sisi*sisi\n",
        "        print(\"luas persegi dengan sisi\",sisi,\"adalah\",luas)\n",
        "    case \"2\":\n",
        "        print(\"anda memasukan angka 2 untuk menghitung luas lingkaran\")\n",
        "        jari=int(input(\"masukan jari jari:\"))\n",
        "        luas=22/7*jari*jari\n",
        "        print(\"luas lingkaran dengan jari\",jari,\"adalah\",luas)\n",
        "    case \"3\":\n",
        "        print(\"anda memasukkan angka 3 untuk menghitung luas segitiga\")\n",
        "        alas=int(input(\"masukan alas:\"))\n",
        "        tinggi=int(input(\"masukan tinggi:\"))\n",
        "        luas=alas*tinggi/2\n",
        "        print(\"luas segitiga\",luas)"
      ],
      "metadata": {
        "colab": {
          "base_uri": "https://localhost:8080/"
        },
        "id": "nMkwpjSz_CT3",
        "outputId": "dc574fe0-bce9-497b-cfba-8f6008c5a33f"
      },
      "execution_count": 2,
      "outputs": [
        {
          "output_type": "stream",
          "name": "stdout",
          "text": [
            "\n",
            "menu:\n",
            "1. menghitung luas persegi\n",
            "2. menghitung luas lingkaran\n",
            "3. menghitung luas segitiga\n",
            "pilih menu:\n",
            "1\n",
            "anda memasukan angka 1 untuk menghitung luas persegi\n",
            "masukan sisi:5\n",
            "luas persegi dengan sisi 5 adalah 25\n"
          ]
        }
      ]
    },
    {
      "cell_type": "code",
      "source": [
        "pesan = \"\"\"\n",
        "menu:\n",
        "1. menghitung luas persegi\n",
        "2. menghitung luas lingkaran\n",
        "3. menghitung luas segitiga\n",
        "pilih menu:\n",
        "\"\"\"\n",
        "pilihan=input(pesan)\n",
        "\n",
        "match pilihan:\n",
        "    case \"1\":\n",
        "        print(\"anda memasukan angka 1 untuk menghitung luas persegi\")\n",
        "        sisi=int(input(\"masukan sisi:\"))\n",
        "        luas=sisi*sisi\n",
        "        print(\"luas persegi dengan sisi\",sisi,\"adalah\",luas)\n",
        "    case \"2\":\n",
        "        print(\"anda memasukan angka 2 untuk menghitung luas lingkaran\")\n",
        "        jari=int(input(\"masukan jari jari:\"))\n",
        "        luas=22/7*jari*jari\n",
        "        print(\"luas lingkaran dengan jari\",jari,\"adalah\",luas)\n",
        "    case \"3\":\n",
        "        print(\"anda memasukkan angka 3 untuk menghitung luas segitiga\")\n",
        "        alas=int(input(\"masukan alas:\"))\n",
        "        tinggi=int(input(\"masukan tinggi:\"))\n",
        "        luas=alas*tinggi/2\n",
        "        print(\"luas segitiga\",luas)"
      ],
      "metadata": {
        "colab": {
          "base_uri": "https://localhost:8080/"
        },
        "id": "sMJyv246_alM",
        "outputId": "bc3c2119-a979-4a06-d48e-df8e93a25954"
      },
      "execution_count": 3,
      "outputs": [
        {
          "output_type": "stream",
          "name": "stdout",
          "text": [
            "\n",
            "menu:\n",
            "1. menghitung luas persegi\n",
            "2. menghitung luas lingkaran\n",
            "3. menghitung luas segitiga\n",
            "pilih menu:\n",
            "2\n",
            "anda memasukan angka 2 untuk menghitung luas lingkaran\n",
            "masukan jari jari:3\n",
            "luas lingkaran dengan jari 3 adalah 28.285714285714285\n"
          ]
        }
      ]
    },
    {
      "cell_type": "code",
      "source": [
        "pesan = \"\"\"\n",
        "menu:\n",
        "1. menghitung luas persegi\n",
        "2. menghitung luas lingkaran\n",
        "3. menghitung luas segitiga\n",
        "pilih menu:\n",
        "\"\"\"\n",
        "pilihan=input(pesan)\n",
        "\n",
        "match pilihan:\n",
        "    case \"1\":\n",
        "        print(\"anda memasukan angka 1 untuk menghitung luas persegi\")\n",
        "        sisi=int(input(\"masukan sisi:\"))\n",
        "        luas=sisi*sisi\n",
        "        print(\"luas persegi dengan sisi\",sisi,\"adalah\",luas)\n",
        "    case \"2\":\n",
        "        print(\"anda memasukan angka 2 untuk menghitung luas lingkaran\")\n",
        "        jari=int(input(\"masukan jari jari:\"))\n",
        "        luas=22/7*jari*jari\n",
        "        print(\"luas lingkaran dengan jari\",jari,\"adalah\",luas)\n",
        "    case \"3\":\n",
        "        print(\"anda memasukkan angka 3 untuk menghitung luas segitiga\")\n",
        "        alas=int(input(\"masukan alas:\"))\n",
        "        tinggi=int(input(\"masukan tinggi:\"))\n",
        "        luas=alas*tinggi/2\n",
        "        print(\"luas segitiga\",luas)"
      ],
      "metadata": {
        "colab": {
          "base_uri": "https://localhost:8080/"
        },
        "id": "l54VlGmI_m_p",
        "outputId": "c5a6f017-b9fc-4d30-bb1e-18e93515d480"
      },
      "execution_count": 4,
      "outputs": [
        {
          "output_type": "stream",
          "name": "stdout",
          "text": [
            "\n",
            "menu:\n",
            "1. menghitung luas persegi\n",
            "2. menghitung luas lingkaran\n",
            "3. menghitung luas segitiga\n",
            "pilih menu:\n",
            "3\n",
            "anda memasukkan angka 3 untuk menghitung luas segitiga\n",
            "masukan alas:4\n",
            "masukan tinggi:5\n",
            "luas segitiga 10.0\n"
          ]
        }
      ]
    }
  ]
}